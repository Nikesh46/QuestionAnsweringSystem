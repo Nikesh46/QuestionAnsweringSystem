{
 "cells": [
  {
   "cell_type": "code",
   "execution_count": 16,
   "id": "70791fa1-6e66-43c5-b33e-78ce0bc1bfc4",
   "metadata": {},
   "outputs": [],
   "source": [
    "import os\n",
    "import glob\n",
    "import nltk\n",
    "import ssl"
   ]
  },
  {
   "cell_type": "code",
   "execution_count": 17,
   "id": "f56cd1f3-c751-4c19-8be5-801185b1901b",
   "metadata": {},
   "outputs": [
    {
     "name": "stderr",
     "output_type": "stream",
     "text": [
      "[nltk_data] Downloading package punkt to\n",
      "[nltk_data]     /Users/nikeshmanjunath/nltk_data...\n",
      "[nltk_data]   Unzipping tokenizers/punkt.zip.\n"
     ]
    },
    {
     "data": {
      "text/plain": [
       "True"
      ]
     },
     "execution_count": 17,
     "metadata": {},
     "output_type": "execute_result"
    }
   ],
   "source": [
    "from sent2vec.vectorizer import Vectorizer\n",
    "import nltk.data\n",
    "try:\n",
    "    _create_unverified_https_context = ssl._create_unverified_context\n",
    "except AttributeError:\n",
    "    pass\n",
    "else:\n",
    "    ssl._create_default_https_context = _create_unverified_https_context\n",
    "nltk.download('punkt')"
   ]
  },
  {
   "cell_type": "code",
   "execution_count": 18,
   "id": "baedd46b-0e4e-46a1-a73b-57a86421e922",
   "metadata": {},
   "outputs": [],
   "source": [
    "tokenizer = nltk.data.load('tokenizers/punkt/english.pickle')"
   ]
  },
  {
   "cell_type": "code",
   "execution_count": 19,
   "id": "6b616dcc-e4d9-4a20-9560-3ece2ff57270",
   "metadata": {},
   "outputs": [],
   "source": [
    "files = glob.glob('./**.txt')\n"
   ]
  },
  {
   "cell_type": "code",
   "execution_count": 24,
   "id": "e2e027ff-1e5a-4204-8169-931161bb92c6",
   "metadata": {},
   "outputs": [],
   "source": [
    "f = open(files[0], 'r')\n",
    "data = f.read()\n",
    "sentences = tokenizer.tokenize(data)\n"
   ]
  },
  {
   "cell_type": "code",
   "execution_count": 39,
   "id": "8dfea001-81b3-4f36-8b8a-4f331c1e503e",
   "metadata": {},
   "outputs": [
    {
     "name": "stderr",
     "output_type": "stream",
     "text": [
      "Some weights of the model checkpoint at distilbert-base-uncased were not used when initializing DistilBertModel: ['vocab_projector.weight', 'vocab_transform.weight', 'vocab_transform.bias', 'vocab_projector.bias', 'vocab_layer_norm.weight', 'vocab_layer_norm.bias']\n",
      "- This IS expected if you are initializing DistilBertModel from the checkpoint of a model trained on another task or with another architecture (e.g. initializing a BertForSequenceClassification model from a BertForPreTraining model).\n",
      "- This IS NOT expected if you are initializing DistilBertModel from the checkpoint of a model that you expect to be exactly identical (initializing a BertForSequenceClassification model from a BertForSequenceClassification model).\n"
     ]
    }
   ],
   "source": [
    "vectorizer = Vectorizer()\n",
    "vectorizer.bert(sentences)\n",
    "vectors = vectorizer.vectors"
   ]
  },
  {
   "cell_type": "code",
   "execution_count": 30,
   "id": "300c0841-165d-4bbf-8a83-1425ed737cab",
   "metadata": {},
   "outputs": [
    {
     "name": "stdout",
     "output_type": "stream",
     "text": [
      "dist_1: 0.027711808681488037, dist_2: 0.025179564952850342\n"
     ]
    }
   ],
   "source": [
    "from scipy import spatial\n",
    "\n",
    "dist_1 = spatial.distance.cosine(vectors[0], vectors[1])\n",
    "dist_2 = spatial.distance.cosine(vectors[0], vectors[2])\n",
    "print('dist_1: {0}, dist_2: {1}'.format(dist_1, dist_2))"
   ]
  },
  {
   "cell_type": "code",
   "execution_count": 36,
   "id": "2a1a703e-b95a-455e-b037-739334c5765f",
   "metadata": {},
   "outputs": [
    {
     "data": {
      "text/plain": [
       "'./288.txt'"
      ]
     },
     "execution_count": 36,
     "metadata": {},
     "output_type": "execute_result"
    }
   ],
   "source": [
    "files[0]"
   ]
  },
  {
   "cell_type": "code",
   "execution_count": 37,
   "id": "f5125446-b624-4171-b1d7-723c6aa6a23c",
   "metadata": {},
   "outputs": [],
   "source": [
    "q = 'What is another term for rustication?'"
   ]
  },
  {
   "cell_type": "code",
   "execution_count": 40,
   "id": "8f09039e-9292-4b51-bd12-f31c3bbe3288",
   "metadata": {},
   "outputs": [
    {
     "name": "stderr",
     "output_type": "stream",
     "text": [
      "Some weights of the model checkpoint at distilbert-base-uncased were not used when initializing DistilBertModel: ['vocab_projector.weight', 'vocab_transform.weight', 'vocab_transform.bias', 'vocab_projector.bias', 'vocab_layer_norm.weight', 'vocab_layer_norm.bias']\n",
      "- This IS expected if you are initializing DistilBertModel from the checkpoint of a model trained on another task or with another architecture (e.g. initializing a BertForSequenceClassification model from a BertForPreTraining model).\n",
      "- This IS NOT expected if you are initializing DistilBertModel from the checkpoint of a model that you expect to be exactly identical (initializing a BertForSequenceClassification model from a BertForSequenceClassification model).\n"
     ]
    }
   ],
   "source": [
    "qvectorizer = Vectorizer()\n",
    "qvectorizer.bert(q)\n",
    "qvectors = qvectorizer.vectors"
   ]
  },
  {
   "cell_type": "code",
   "execution_count": 44,
   "id": "fac36b5b-ee67-4525-a0a5-36580e1a5857",
   "metadata": {},
   "outputs": [],
   "source": [
    "dist_2 = spatial.distance.cosine(vectors[0], qvectors[0])"
   ]
  },
  {
   "cell_type": "code",
   "execution_count": 45,
   "id": "8e802f76-f2d9-4c03-b28a-dd8692cb691a",
   "metadata": {},
   "outputs": [
    {
     "data": {
      "text/plain": [
       "0.36595046520233154"
      ]
     },
     "execution_count": 45,
     "metadata": {},
     "output_type": "execute_result"
    }
   ],
   "source": [
    "dist_2"
   ]
  },
  {
   "cell_type": "code",
   "execution_count": null,
   "id": "9b95e4c2-58ac-436e-8b98-efda998e17a5",
   "metadata": {},
   "outputs": [],
   "source": []
  }
 ],
 "metadata": {
  "kernelspec": {
   "display_name": "Python (nm)",
   "language": "python",
   "name": "nm"
  },
  "language_info": {
   "codemirror_mode": {
    "name": "ipython",
    "version": 3
   },
   "file_extension": ".py",
   "mimetype": "text/x-python",
   "name": "python",
   "nbconvert_exporter": "python",
   "pygments_lexer": "ipython3",
   "version": "3.9.5"
  }
 },
 "nbformat": 4,
 "nbformat_minor": 5
}
